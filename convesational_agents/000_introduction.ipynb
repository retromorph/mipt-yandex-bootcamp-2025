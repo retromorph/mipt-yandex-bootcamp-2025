{
 "cells": [
  {
   "metadata": {},
   "cell_type": "markdown",
   "source": "# Введение в диалоговые системы",
   "id": "f92560bfdb9029c6"
  },
  {
   "metadata": {},
   "cell_type": "markdown",
   "source": "## Постановка задачи",
   "id": "9606ecaff643b559"
  },
  {
   "metadata": {},
   "cell_type": "markdown",
   "source": [
    "**Определение**: Диалоговые системы (Conversational agents) - программы созданные для поддержания естественного общения с людьми\n",
    "\n",
    "Классическая классификация:\n",
    "- Чатботы - диалоговые системы, нацеленные на поддержания диалога на условно повседневные темы\n",
    "- Task-oriented - диалоговые системы, нацеленные на предоставление точной и релевантной информации касательно конерктного домена, а так же на взаимодействие с бизнес-логикой\n",
    "\n",
    "Де-факто эта классификация уже устарела. Большинство современных систем стараются совмещать эти два подхода - бизнесовые CA-шки могут поговорить на свободные темы, а условный chatgpt может решать конкретные проблемы вроде кодинга или поиска. Более актуальна\n",
    "\n",
    "Современная классификация:\n",
    "- Interpretable диалоговая система может предоставить точное человекочитаемое объяснение своих решений (например, в виде последовательности переходов по FSM)\n",
    "- Blackbox диалоговая система такое объяснение предоставить не может. Пример - chatgpt"
   ],
   "id": "ce8a6e978f1ae229"
  },
  {
   "metadata": {},
   "cell_type": "markdown",
   "source": [
    "**Определение:** Архитектура диалоговой системы\n",
    "\n",
    "<img src='../media/conversational-agent-architecture.png'> _Прим. Терминология неустоявшаяся_\n",
    "\n",
    "Так же эту архитектуру нужно воспринимать скорее идейно. Не обязательно в каждой диалоговой системе будут реалозованы все эти компоненты. Например, если напрямую взаимодействовать с LLM без обвесов и тулинга, то все эти модули будут end-to-end в рамках нейросети"
   ],
   "id": "564573904291e2b8"
  },
  {
   "metadata": {},
   "cell_type": "markdown",
   "source": [
    "## Источники\n",
    "\n",
    "- Conversational Agents: Theory and Applications. Mattias Wahde and Marco Virgolin. 17.02.22\n",
    "- chain of thought prompting\n",
    "- self-consistency improves chain of thought…\n",
    "- llms as zero-shot dialogue state tracker through function-calling\n",
    "- dse\n",
    "- text embeddings by weakly-supervised contrastive pretraining\n",
    "\n",
    "\n"
   ],
   "id": "1b804b5be7a9486d"
  },
  {
   "metadata": {},
   "cell_type": "code",
   "outputs": [],
   "execution_count": null,
   "source": "",
   "id": "178cd5196040e161"
  }
 ],
 "metadata": {
  "kernelspec": {
   "name": "python3",
   "language": "python",
   "display_name": "Python 3 (ipykernel)"
  }
 },
 "nbformat": 5,
 "nbformat_minor": 9
}
